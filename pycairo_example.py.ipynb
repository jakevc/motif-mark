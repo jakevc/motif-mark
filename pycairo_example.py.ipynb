{
 "cells": [
  {
   "cell_type": "code",
   "execution_count": 1,
   "metadata": {
    "collapsed": true
   },
   "outputs": [],
   "source": [
    "import cairo\n",
    "import numpy as np\n",
    "import matplotlib.colors as mplc"
   ]
  },
  {
   "cell_type": "code",
   "execution_count": 77,
   "metadata": {},
   "outputs": [
    {
     "name": "stdout",
     "output_type": "stream",
     "text": [
      "1.0\n",
      "0.8436406067677946\n",
      "0.5040840140023337\n",
      "r\n",
      "r\n",
      "r\n",
      "b\n",
      "b\n",
      "b\n",
      "g\n",
      "g\n",
      "g\n"
     ]
    },
    {
     "data": {
      "image/svg+xml": [
       "<svg height=\"300pt\" version=\"1.1\" viewBox=\"0 0 857 300\" width=\"857pt\" xmlns=\"http://www.w3.org/2000/svg\" xmlns:xlink=\"http://www.w3.org/1999/xlink\">\n",
       "<g id=\"surface263\">\n",
       "<path d=\"M 0 0.25 L 1 0.25 M 0 0.5 L 0.843646 0.5 M 0 0.75 L 0.504089 0.75 \" style=\"fill:none;stroke-width:0.01;stroke-linecap:butt;stroke-linejoin:miter;stroke:rgb(0%,0%,0%);stroke-opacity:1;stroke-miterlimit:10;\" transform=\"matrix(300,0,0,300,0,0)\"/>\n",
       "<path d=\"M 0.369896 0.23 L 0.410742 0.23 L 0.410742 0.27 L 0.369896 0.27 Z M 0.357057 0.48 L 0.593932 0.48 L 0.593932 0.52 L 0.357057 0.52 Z M 0.196029 0.73 L 0.306875 0.73 L 0.306875 0.77 L 0.196029 0.77 Z M 0.196029 0.73 \" style=\"fill:none;stroke-width:0.01;stroke-linecap:butt;stroke-linejoin:miter;stroke:rgb(0%,0%,0%);stroke-opacity:1;stroke-miterlimit:10;\" transform=\"matrix(300,0,0,300,0,0)\"/>\n",
       "<path d=\"M 0.00816406 0.273333 L 0.00816406 0.226667 M 0.151693 0.273333 L 0.151693 0.226667 M 0.171523 0.273333 L 0.171523 0.226667 M 0.253203 0.273333 L 0.253203 0.226667 M 0.394401 0.273333 L 0.394401 0.226667 M 0.44224 0.273333 L 0.44224 0.226667 M 0.0198307 0.523333 L 0.0198307 0.476667 M 0.483086 0.523333 L 0.483086 0.476667 M 0.542591 0.523333 L 0.542591 0.476667 M 0.0431771 0.773333 L 0.0431771 0.726667 M 0.0571745 0.773333 L 0.0571745 0.726667 M 0.136523 0.773333 L 0.136523 0.726667 M 0.197201 0.773333 L 0.197201 0.726667 M 0.228711 0.773333 L 0.228711 0.726667 M 0.499414 0.773333 L 0.499414 0.726667 \" style=\"fill:none;stroke-width:0.005;stroke-linecap:butt;stroke-linejoin:miter;stroke:rgb(100%,0%,0%);stroke-opacity:1;stroke-miterlimit:10;\" transform=\"matrix(300,0,0,300,0,0)\"/>\n",
       "<path d=\"M 0.00466146 0.273333 L 0.00466146 0.226667 M 0.0175 0.273333 L 0.0175 0.226667 M 0.11668 0.273333 L 0.11668 0.226667 M 0.183203 0.273333 L 0.183203 0.226667 M 0.0128385 0.523333 L 0.0128385 0.476667 M 0.350052 0.523333 L 0.350052 0.476667 M 0.583424 0.523333 L 0.583424 0.476667 M 0.0233333 0.773333 L 0.0233333 0.726667 M 0.0816797 0.773333 L 0.0816797 0.726667 M 0.129518 0.773333 L 0.129518 0.726667 M 0.151693 0.773333 L 0.151693 0.726667 M 0.186693 0.773333 L 0.186693 0.726667 M 0.350052 0.773333 L 0.350052 0.726667 M 0.408398 0.773333 L 0.408398 0.726667 M 0.495911 0.773333 L 0.495911 0.726667 \" style=\"fill:none;stroke-width:0.005;stroke-linecap:butt;stroke-linejoin:miter;stroke:rgb(0%,0%,100%);stroke-opacity:1;stroke-miterlimit:10;\" transform=\"matrix(300,0,0,300,0,0)\"/>\n",
       "<path d=\"M 0.00700521 0.273333 L 0.00700521 0.226667 M 0.0139974 0.273333 L 0.0139974 0.226667 M 0.122526 0.273333 L 0.122526 0.226667 M 0.350052 0.273333 L 0.350052 0.226667 M 0.466745 0.523333 L 0.466745 0.476667 M 0.035 0.523333 L 0.035 0.476667 M 0.0583464 0.523333 L 0.0583464 0.476667 M 0.0816797 0.523333 L 0.0816797 0.476667 M 0.0408464 0.773333 L 0.0408464 0.726667 M 0.087513 0.773333 L 0.087513 0.726667 M 0.402565 0.773333 L 0.402565 0.726667 \" style=\"fill:none;stroke-width:0.005;stroke-linecap:butt;stroke-linejoin:miter;stroke:rgb(0%,50%,0%);stroke-opacity:1;stroke-miterlimit:10;\" transform=\"matrix(300,0,0,300,0,0)\"/>\n",
       "</g>\n",
       "</svg>"
      ],
      "text/plain": [
       "<IPython.core.display.SVG object>"
      ]
     },
     "execution_count": 77,
     "metadata": {},
     "output_type": "execute_result"
    }
   ],
   "source": [
    "class draw_svg():\n",
    "    '''draw class for motif mark svg creation'''\n",
    "    def __init__(self, motifs, lengths, exons):\n",
    "        self.motifs = motifs\n",
    "        self.lengths = lengths\n",
    "        self.exons = exons\n",
    "    \n",
    "    \n",
    "    def setup_surface(self):\n",
    "        '''draws a surface for the number of fasta entries'''\n",
    "        \n",
    "        # dimensions\n",
    "        n = len(self.exons)\n",
    "        self.width = 100 * n\n",
    "        self.svg_len = max(self.lengths) \n",
    "        \n",
    "        # surface \n",
    "        self.surface = cairo.SVGSurface('example.svg', self.svg_len, self.width)\n",
    "        self.context = cairo.Context(self.surface)\n",
    "        self.context.scale(300, 300)\n",
    "\n",
    "        # centers\n",
    "        self.centers = []\n",
    "        top = 1\n",
    "        self.centers.append(top/(n+1))\n",
    "\n",
    "        while top < n:\n",
    "            top += 1\n",
    "            self.centers.append(top/(n+1))\n",
    "            \n",
    "        return self.context, self.surface\n",
    "            \n",
    "    def draw_seq_regions(self):\n",
    "        # sequence lines across figure\n",
    "        for l,c in zip(self.lengths, self.centers):\n",
    "            x, x2 = 0, l/self.svg_len\n",
    "            y, y2 = c, c\n",
    "            self.context.move_to(x, y)\n",
    "            self.context.set_line_width(0.01)\n",
    "            self.context.line_to(x2, y2)\n",
    "            \n",
    "        return self.context.stroke()\n",
    "\n",
    "    def draw_exons(self):\n",
    "        '''draws exon from a string of coordinates \"start:stop\"'''\n",
    "        \n",
    "        for seqlen, ecenter, exon in zip(self.lengths, self.centers, self.exons):\n",
    "            \n",
    "            # set exon color as black with mpl function\n",
    "            r,g,b,a = mplc.to_rgba('black')\n",
    "            self.context.set_source_rgba(r,g,b,a)\n",
    "\n",
    "            exon = (int(exon.split(':')[0]), int(exon.split(':')[1]))\n",
    "             \n",
    "            # draw rectangle    \n",
    "            self.context.rectangle(exon[0]/self.svg_len, (ecenter-0.02), (exon[1]-exon[0])/self.svg_len, 0.04)\n",
    "            \n",
    "            \n",
    "            print(seqlen/self.svg_len)\n",
    "            \n",
    "        return self.context.stroke()\n",
    "\n",
    "\n",
    "    def draw_motifs(self, colors):\n",
    "        '''draws motifs of the desired color on the sequence region'''\n",
    "      \n",
    "    \n",
    "        for mot, col in zip(self.motifs, colors):\n",
    "            # use mpl color function to get the color you want\n",
    "            r,g,b,a = mplc.to_rgba(col)\n",
    "\n",
    "            # set that color as the context\n",
    "            self.context.set_source_rgba(r,g,b,a)\n",
    "\n",
    "            \n",
    "            # for each attribute of each seq region\n",
    "            for m, seqlen, center in zip(mot, self.lengths, self.centers):\n",
    "\n",
    "#                 # use mpl color function to get the color you want\n",
    "#                 r,g,b,a = mplc.to_rgba(col)\n",
    "\n",
    "#                 # set that color as the context\n",
    "#                 self.context.set_source_rgba(r,g,b,a)\n",
    "\n",
    "                print(col)\n",
    "\n",
    "\n",
    "                for pos in m:\n",
    "\n",
    "#                     # use mpl color function to get the color you want\n",
    "#                     r,g,b,a = mplc.to_rgba(col)\n",
    "\n",
    "#                     # set that color as the context\n",
    "#                     self.context.set_source_rgba(r,g,b,a)\n",
    "\n",
    "                    #get the first coordinate of the motif\n",
    "                    motif = int(pos)\n",
    "\n",
    "                    # scale to svg_len \n",
    "                    x = motif/self.svg_len\n",
    "\n",
    "                    # draw around center line\n",
    "                    y = center + 20/self.svg_len\n",
    "                    y1 = center - 20/self.svg_len\n",
    "\n",
    "                    # create line\n",
    "                    self.context.move_to(x,y)\n",
    "                    self.context.line_to(x,y1)\n",
    "\n",
    "                    self.context.set_line_width(0.005)\n",
    "            self.context.stroke()\n",
    "   \n",
    "\n",
    "    def finish_svg(self):\n",
    "        # start svg\n",
    "        svg = draw_svg(motifs, lengths, exons)\n",
    "\n",
    "        # setup svg surface\n",
    "        svg.setup_surface()\n",
    "\n",
    "        # draw the scaled regions for each entry\n",
    "        svg.draw_seq_regions()\n",
    "\n",
    "        # draw exons\n",
    "        svg.draw_exons()\n",
    "\n",
    "        svg.draw_motifs(colors)\n",
    "\n",
    "        svg.draw_motifs\n",
    "\n",
    "        # finish the surface!\n",
    "        return svg.surface.finish() \n",
    "\n",
    "\n",
    "motifs  = [[('7', '130', '147', '217', '338', '379'), ('17', '414', '465'), ('37', '49', '117', '169', '196', '428')],\n",
    "          [('4', '15', '100', '157'), ('11', '300','500'),('20','70','111','130','160','300','350','425')],\n",
    "          [('6', '12', '105', '300'), ('400','30','50','70'),('35', '75', '345')]]\n",
    "lengths = (857, 723, 432)\n",
    "exons = ('317:352', '306:509', '168:263')\n",
    "\n",
    "colors = ('r','b','g')\n",
    "\n",
    "\n",
    "svg = draw_svg(motifs, lengths, exons)\n",
    "svg.finish_svg()\n",
    "\n",
    "\n",
    "from IPython.display import SVG, display\n",
    "SVG('example.svg')"
   ]
  },
  {
   "cell_type": "code",
   "execution_count": 84,
   "metadata": {},
   "outputs": [
    {
     "data": {
      "text/plain": [
       "(63, 63, 127)"
      ]
     },
     "execution_count": 84,
     "metadata": {},
     "output_type": "execute_result"
    }
   ],
   "source": [
    "motifs  = [[('7', '130', '147', '217', '338', '379'), ('17', '414', '465'), ('37', '49', '117', '169', '196', '428')],\n",
    "          [('4', '15', '100', '157'), ('11', '300','500'),('20','70','111','130','160','300','350','425')],\n",
    "          [('6', '12', '105', '300'), ('400','30','50','70'),('35', '75', '345')]]\n",
    "\n",
    "motifs[2]"
   ]
  },
  {
   "cell_type": "code",
   "execution_count": null,
   "metadata": {
    "collapsed": true
   },
   "outputs": [],
   "source": [
    "## Object oriented play time, let's implement this for motif_mark\n",
    "\n",
    "class to_do:\n",
    "    '''To do list'''\n",
    "    def __init__(self, store, my_list):\n",
    "        self.store = 'TJS'\n",
    "        self.list = my_list\n",
    "        \n",
    "    def add_item_to_list(self,item):\n",
    "        self.list.append(item)\n",
    "\n",
    "my_list = ['apples', 'cookies', 'milk']\n",
    "\n",
    "td = to_do('TJS', my_list)\n",
    "\n",
    "print(td.list)\n",
    "\n",
    "td.add_item_to_list('milk')\n",
    "\n",
    "print(td.list)\n"
   ]
  },
  {
   "cell_type": "code",
   "execution_count": null,
   "metadata": {
    "collapsed": true
   },
   "outputs": [],
   "source": [
    "st = \"asdfa;lsdf;lkajs;dlfjkhlkjCGCChsdfoiuwerASygcyDFBBTGCATGCBTugcuTGGTGAGGTTAAAGTGCTGTGCGTasdfhlkwerltgcatgasdflksdf\""
   ]
  },
  {
   "cell_type": "code",
   "execution_count": null,
   "metadata": {
    "collapsed": true
   },
   "outputs": [],
   "source": [
    "# def find_exon(string):\n",
    "#     coordinates = []\n",
    "#     for i, char in enumerate(st):\n",
    "#         if char.isupper():\n",
    "#             coordinates.append(i)\n",
    "#     return (min(coordinates),max(coordinates))\n",
    "\n",
    "# find_exon(st)\n",
    "\n",
    "# motif list\n",
    "motif_list\n",
    "def motif_patterns(motif_list):\n",
    "    'returns list of regex searchs for any motif of IUPAC nucleotide codes'\n",
    "    motif_match_list = []\n",
    "    \n",
    "    IUPAC_dict = {'y':'(C|T|U)',\n",
    "                  'r':'(A|G)',\n",
    "                  's':'(C|G)',\n",
    "                  'w':'(A|T|U)',\n",
    "                  'k':'(G|T|U)',\n",
    "                  'm':'(C|A)',\n",
    "                  'b':'(C|G|T|U)',\n",
    "                  'd':'(A|G|T|U)',\n",
    "                  'v':'(A|C|G)',\n",
    "                  'h':'(A|C|T|U)'\n",
    "                 }\n",
    "    \n",
    "    for tif in motif_list:\n",
    "        for key in IUPAC_dict:\n",
    "            m = re.finditer(r'(?i)'+key, tif)\n",
    "            for i in m:\n",
    "                tif = tif.replace(i.group(), IUPAC_dict[key])\n",
    "    \n",
    "        motif_match_list.append(tif)\n",
    "        \n",
    "    return motif_match_list\n",
    "        \n",
    "\n",
    "motif_patterns(motif_list)\n",
    "\n",
    "           \n",
    "\n",
    "import re\n",
    "\n",
    "def motif_coords(motif):\n",
    "    'returns string coordinates of motif match (case insensitive)'\n",
    "    motif_coords_list = []\n",
    "    m = re.finditer(r'(?i)'+motif, st)\n",
    "    for i in m:\n",
    "        motif_coords_list.append(str(i.start())+':'+str(i.end()))\n",
    "        \n",
    "    return motif_coords_list\n",
    "\n",
    "motif_coords('(C|T|U)gc(C|T|U)')"
   ]
  },
  {
   "cell_type": "code",
   "execution_count": null,
   "metadata": {
    "collapsed": true
   },
   "outputs": [],
   "source": [
    "def get_motif_list(motifile):\n",
    "    '''return list of motifs from motif file'''\n",
    "    with open(motifile, 'r') as mh:\n",
    "\n",
    "        # list to hold motifs of interest\n",
    "        motifs = []\n",
    "\n",
    "        # loop over each line storing each motif in list\n",
    "        for line in mh: \n",
    "            motifs.append(line.strip())\n",
    "\n",
    "        return motifs\n",
    "    \n",
    "motif_list = get_motif_list('motifs.txt')"
   ]
  },
  {
   "cell_type": "code",
   "execution_count": null,
   "metadata": {
    "collapsed": true
   },
   "outputs": [],
   "source": [
    "def get_seq_regions(fastafile):\n",
    "    with open(fastafile, 'r') as fh:\n",
    "        exon_dict = {}\n",
    "        for line in fh:\n",
    "            line = line.strip()\n",
    "            if line[0] == '>':\n",
    "                header = line\n",
    "                seq = '' \n",
    "            elif line[0] != '>':  \n",
    "                seq += line\n",
    "                exon_dict[header] = seq"
   ]
  },
  {
   "cell_type": "code",
   "execution_count": null,
   "metadata": {
    "collapsed": true
   },
   "outputs": [],
   "source": [
    "li = ['a','b','r','t']\n",
    "li2 = ''.join(li)\n",
    "print(li2)"
   ]
  },
  {
   "cell_type": "code",
   "execution_count": null,
   "metadata": {
    "collapsed": true
   },
   "outputs": [],
   "source": []
  }
 ],
 "metadata": {
  "kernelspec": {
   "display_name": "Python 3",
   "language": "python",
   "name": "python3"
  },
  "language_info": {
   "codemirror_mode": {
    "name": "ipython",
    "version": 3
   },
   "file_extension": ".py",
   "mimetype": "text/x-python",
   "name": "python",
   "nbconvert_exporter": "python",
   "pygments_lexer": "ipython3",
   "version": "3.6.3"
  }
 },
 "nbformat": 4,
 "nbformat_minor": 2
}
