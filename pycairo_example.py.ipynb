{
 "cells": [
  {
   "cell_type": "code",
   "execution_count": 150,
   "metadata": {},
   "outputs": [],
   "source": [
    "import cairo\n",
    "import numpy as np\n",
    "import matplotlib.colors as mplc"
   ]
  },
  {
   "cell_type": "code",
   "execution_count": 248,
   "metadata": {},
   "outputs": [
    {
     "ename": "Error",
     "evalue": "the target surface has been finished",
     "output_type": "error",
     "traceback": [
      "\u001b[0;31m---------------------------------------------------------------------------\u001b[0m",
      "\u001b[0;31mError\u001b[0m                                     Traceback (most recent call last)",
      "\u001b[0;32m<ipython-input-248-4b5670ba7b2e>\u001b[0m in \u001b[0;36m<module>\u001b[0;34m()\u001b[0m\n\u001b[1;32m     92\u001b[0m \u001b[0mexons\u001b[0m \u001b[0;34m=\u001b[0m \u001b[0;34m(\u001b[0m\u001b[0;34m'200:300'\u001b[0m\u001b[0;34m,\u001b[0m \u001b[0;34m'500:300'\u001b[0m\u001b[0;34m,\u001b[0m \u001b[0;34m'70:100'\u001b[0m\u001b[0;34m)\u001b[0m\u001b[0;34m\u001b[0m\u001b[0m\n\u001b[1;32m     93\u001b[0m \u001b[0;34m\u001b[0m\u001b[0m\n\u001b[0;32m---> 94\u001b[0;31m \u001b[0mdraw_svg\u001b[0m\u001b[0;34m(\u001b[0m\u001b[0;34m)\u001b[0m\u001b[0;34m\u001b[0m\u001b[0m\n\u001b[0m\u001b[1;32m     95\u001b[0m \u001b[0;34m\u001b[0m\u001b[0m\n\u001b[1;32m     96\u001b[0m \u001b[0;32mfrom\u001b[0m \u001b[0mIPython\u001b[0m\u001b[0;34m.\u001b[0m\u001b[0mdisplay\u001b[0m \u001b[0;32mimport\u001b[0m \u001b[0mSVG\u001b[0m\u001b[0;34m,\u001b[0m \u001b[0mdisplay\u001b[0m\u001b[0;34m\u001b[0m\u001b[0m\n",
      "\u001b[0;32m<ipython-input-248-4b5670ba7b2e>\u001b[0m in \u001b[0;36mdraw_svg\u001b[0;34m()\u001b[0m\n\u001b[1;32m     75\u001b[0m \u001b[0;34m\u001b[0m\u001b[0m\n\u001b[1;32m     76\u001b[0m     \u001b[0;31m# draw the scaled regions for each entry\u001b[0m\u001b[0;34m\u001b[0m\u001b[0;34m\u001b[0m\u001b[0m\n\u001b[0;32m---> 77\u001b[0;31m     \u001b[0mregions\u001b[0m \u001b[0;34m=\u001b[0m \u001b[0mdraw_seq_regions\u001b[0m\u001b[0;34m(\u001b[0m\u001b[0mlengths\u001b[0m\u001b[0;34m,\u001b[0m \u001b[0mcenters\u001b[0m\u001b[0;34m)\u001b[0m\u001b[0;34m\u001b[0m\u001b[0m\n\u001b[0m\u001b[1;32m     78\u001b[0m \u001b[0;34m\u001b[0m\u001b[0m\n\u001b[1;32m     79\u001b[0m     \u001b[0;32mfor\u001b[0m \u001b[0mcen\u001b[0m \u001b[0;32min\u001b[0m \u001b[0mcenters\u001b[0m\u001b[0;34m:\u001b[0m\u001b[0;34m\u001b[0m\u001b[0m\n",
      "\u001b[0;32m<ipython-input-248-4b5670ba7b2e>\u001b[0m in \u001b[0;36mdraw_seq_regions\u001b[0;34m(lengths, centers)\u001b[0m\n\u001b[1;32m     61\u001b[0m         \u001b[0mx\u001b[0m\u001b[0;34m,\u001b[0m \u001b[0mx2\u001b[0m \u001b[0;34m=\u001b[0m \u001b[0;36m0\u001b[0m\u001b[0;34m,\u001b[0m \u001b[0;34m(\u001b[0m\u001b[0ml\u001b[0m\u001b[0;34m/\u001b[0m\u001b[0;36m1000\u001b[0m\u001b[0;34m)\u001b[0m\u001b[0;34m\u001b[0m\u001b[0m\n\u001b[1;32m     62\u001b[0m         \u001b[0my\u001b[0m\u001b[0;34m,\u001b[0m \u001b[0my2\u001b[0m \u001b[0;34m=\u001b[0m \u001b[0mc\u001b[0m\u001b[0;34m,\u001b[0m \u001b[0mc\u001b[0m\u001b[0;34m\u001b[0m\u001b[0m\n\u001b[0;32m---> 63\u001b[0;31m         \u001b[0mcontext\u001b[0m\u001b[0;34m.\u001b[0m\u001b[0mmove_to\u001b[0m\u001b[0;34m(\u001b[0m\u001b[0mx\u001b[0m\u001b[0;34m,\u001b[0m \u001b[0my\u001b[0m\u001b[0;34m)\u001b[0m\u001b[0;34m\u001b[0m\u001b[0m\n\u001b[0m\u001b[1;32m     64\u001b[0m         \u001b[0mcontext\u001b[0m\u001b[0;34m.\u001b[0m\u001b[0mset_line_width\u001b[0m\u001b[0;34m(\u001b[0m\u001b[0;36m0.01\u001b[0m\u001b[0;34m)\u001b[0m\u001b[0;34m\u001b[0m\u001b[0m\n\u001b[1;32m     65\u001b[0m         \u001b[0mcontext\u001b[0m\u001b[0;34m.\u001b[0m\u001b[0mline_to\u001b[0m\u001b[0;34m(\u001b[0m\u001b[0mx2\u001b[0m\u001b[0;34m,\u001b[0m \u001b[0my2\u001b[0m\u001b[0;34m)\u001b[0m\u001b[0;34m\u001b[0m\u001b[0m\n",
      "\u001b[0;31mError\u001b[0m: the target surface has been finished"
     ]
    }
   ],
   "source": [
    "def setup_surface(n):\n",
    "    '''draws a surface for the number of fasta entries'''\n",
    "    surface = cairo.SVGSurface(\"example.svg\", 300, 200)\n",
    "    context = cairo.Context(surface)\n",
    "    context.scale(300, 200)\n",
    "    \n",
    "    global centers\n",
    "    \n",
    "    centers = []\n",
    "    top = 1\n",
    "    centers.append(top/(n+1))\n",
    "    \n",
    "    while top < n:\n",
    "        top += 1\n",
    "        centers.append(top/(n+1))\n",
    "        \n",
    "    return surface, context\n",
    "\n",
    "\n",
    "def draw_exon(exon, center):\n",
    "    '''draws exons from a string of coordinates \"start:stop\"'''\n",
    "    r,g,b,a = mplc.to_rgba('black')\n",
    "    context.set_source_rgba(r,g,b,a)\n",
    "    exon = (int(exon.split(':')[0]), int(exon.split(':')[1]))\n",
    "    context.rectangle(exon[0]/length,(center-0.02), exon[1]/length ,0.04)\n",
    "    \n",
    "    return context.stroke()\n",
    "\n",
    "\n",
    "def draw_motif(motif, col, centers):\n",
    "    '''draws motifs of the desired color on the sequence region'''\n",
    "    \n",
    "    # use mpl color function to get the color you want\n",
    "    r,g,b,a = mplc.to_rgba(col)\n",
    "    \n",
    "    # set that color as the context\n",
    "    context.set_source_rgba(r,g,b,a)\n",
    "    \n",
    "    # get the first coordinate of the motif\n",
    "    motif = int(motif)\n",
    "    \n",
    "    x = motif/length\n",
    "    y = center + 20/length\n",
    "    y1 = center - 20/length\n",
    "    \n",
    "    # create line\n",
    "    context.move_to(x,y)\n",
    "    context.line_to(x,y1)\n",
    "    \n",
    "    # return stroke\n",
    "    return context.stroke()\n",
    "\n",
    "def draw_motifs(motif_list, col, centers):\n",
    "    for m in motifs:\n",
    "        draw_motif(m, col, centers)\n",
    "\n",
    "\n",
    "def draw_seq_regions(lengths, centers):\n",
    "    # sequence lines across figure\n",
    "    for l,c in zip(lengths, centers):\n",
    "        x, x2 = 0, (l/1000)\n",
    "        y, y2 = c, c\n",
    "        context.move_to(x, y)\n",
    "        context.set_line_width(0.01)\n",
    "        context.line_to(x2, y2)\n",
    "    return context.stroke()\n",
    "\n",
    "\n",
    "def draw_svg():\n",
    "    \n",
    "    '''draw the svg with the right centers and lengths'''\n",
    "    \n",
    "    # setup the surface and the context\n",
    "    surface, context = setup_surface(3)\n",
    "    \n",
    "    # draw the scaled regions for each entry\n",
    "    regions = draw_seq_regions(lengths, centers)\n",
    "    \n",
    "    for cen in centers:\n",
    "        # draw the exon for each center \n",
    "        draw_exon(exons, centers[1])\n",
    "\n",
    "        # draw the motifs for each center\n",
    "        draw_motifs(motifs, 'r', centers[1])\n",
    "\n",
    "    return regions, surface.finish()\n",
    "\n",
    "motifs  = [('7', '130', '147', '217', '338', '379'), ('17', '414', '465'), ('37', '49', '117', '169', '196', '428')]\n",
    "\n",
    "lengths = (857, 723, 432)\n",
    "\n",
    "exons = ('200:300', '500:300', '70:100')\n",
    "\n",
    "draw_svg()\n",
    "\n",
    "from IPython.display import SVG, display\n",
    "SVG('example.svg')"
   ]
  },
  {
   "cell_type": "code",
   "execution_count": 238,
   "metadata": {},
   "outputs": [
    {
     "data": {
      "text/plain": [
       "0.5"
      ]
     },
     "execution_count": 238,
     "metadata": {},
     "output_type": "execute_result"
    }
   ],
   "source": [
    "centers[1]"
   ]
  },
  {
   "cell_type": "code",
   "execution_count": 131,
   "metadata": {},
   "outputs": [
    {
     "name": "stdout",
     "output_type": "stream",
     "text": [
      "['apples', 'cookies', 'milk']\n",
      "['apples', 'cookies', 'milk', 'milk']\n"
     ]
    }
   ],
   "source": [
    "## Object oriented play time, let's implement this for motif_mark\n",
    "\n",
    "class to_do:\n",
    "    '''To do list'''\n",
    "    def __init__(self, store, my_list):\n",
    "        self.store = 'TJS'\n",
    "        self.list = my_list\n",
    "        \n",
    "    def add_item_to_list(self,item):\n",
    "        self.list.append(item)\n",
    "\n",
    "my_list = ['apples', 'cookies', 'milk']\n",
    "\n",
    "td = to_do('TJS', my_list)\n",
    "\n",
    "print(td.list)\n",
    "\n",
    "td.add_item_to_list('milk')\n",
    "\n",
    "print(td.list)\n"
   ]
  },
  {
   "cell_type": "code",
   "execution_count": 75,
   "metadata": {
    "collapsed": true
   },
   "outputs": [],
   "source": [
    "st = \"asdfa;lsdf;lkajs;dlfjkhlkjCGCChsdfoiuwerASygcyDFBBTGCATGCBTugcuTGGTGAGGTTAAAGTGCTGTGCGTasdfhlkwerltgcatgasdflksdf\""
   ]
  },
  {
   "cell_type": "code",
   "execution_count": 242,
   "metadata": {},
   "outputs": [
    {
     "name": "stdout",
     "output_type": "stream",
     "text": [
      "['26:30', '59:63', '77:81']\n"
     ]
    }
   ],
   "source": [
    "# def find_exon(string):\n",
    "#     coordinates = []\n",
    "#     for i, char in enumerate(st):\n",
    "#         if char.isupper():\n",
    "#             coordinates.append(i)\n",
    "#     return (min(coordinates),max(coordinates))\n",
    "\n",
    "# find_exon(st)\n",
    "\n",
    "# motif list\n",
    "motif_list\n",
    "def motif_patterns(motif_list):\n",
    "    'returns list of regex searchs for any motif of IUPAC nucleotide codes'\n",
    "    motif_match_list = []\n",
    "    \n",
    "    IUPAC_dict = {'y':'(C|T|U)',\n",
    "                  'r':'(A|G)',\n",
    "                  's':'(C|G)',\n",
    "                  'w':'(A|T|U)',\n",
    "                  'k':'(G|T|U)',\n",
    "                  'm':'(C|A)',\n",
    "                  'b':'(C|G|T|U)',\n",
    "                  'd':'(A|G|T|U)',\n",
    "                  'v':'(A|C|G)',\n",
    "                  'h':'(A|C|T|U)'\n",
    "                 }\n",
    "    \n",
    "    for tif in motif_list:\n",
    "        for key in IUPAC_dict:\n",
    "            m = re.finditer(r'(?i)'+key, tif)\n",
    "            for i in m:\n",
    "                tif = tif.replace(i.group(), IUPAC_dict[key])\n",
    "    \n",
    "        motif_match_list.append(tif)\n",
    "        \n",
    "    return motif_match_list\n",
    "        \n",
    "\n",
    "motif_patterns(motif_list)\n",
    "\n",
    "           \n",
    "\n",
    "import re\n",
    "\n",
    "def motif_coords(motif):\n",
    "    'returns string coordinates of motif match (case insensitive)'\n",
    "    motif_coords_list = []\n",
    "    m = re.finditer(r'(?i)'+motif, st)\n",
    "    for i in m:\n",
    "        motif_coords_list.append(str(i.start())+':'+str(i.end()))\n",
    "        \n",
    "    return motif_coords_list\n",
    "\n",
    "motif_coords('(C|T|U)gc(C|T|U)')"
   ]
  },
  {
   "cell_type": "code",
   "execution_count": 155,
   "metadata": {
    "collapsed": true
   },
   "outputs": [],
   "source": [
    "def get_motif_list(motifile):\n",
    "    '''return list of motifs from motif file'''\n",
    "    with open(motifile, 'r') as mh:\n",
    "\n",
    "        # list to hold motifs of interest\n",
    "        motifs = []\n",
    "\n",
    "        # loop over each line storing each motif in list\n",
    "        for line in mh: \n",
    "            motifs.append(line.strip())\n",
    "\n",
    "        return motifs\n",
    "    \n",
    "motif_list = get_motif_list('motifs.txt')"
   ]
  },
  {
   "cell_type": "code",
   "execution_count": 97,
   "metadata": {},
   "outputs": [
    {
     "data": {
      "text/plain": [
       "{'>ADD3 chr10:111891895-111892326': 'aatgtataattatggatatatgggataactgttagcatgctcagctcactgctgaagaatttatcatctctttgtatacaggcatttgatgtatgcactaacctccctaaaatcatatgctgctttgttttgttttgcatggcttttaactaaactcttatccaacagATGCTGAGCAGGAATTACTCTCAGATGACGCTTCATCTGTTTCACAAATTCAGTCTCAAACTCAGTCACCGCAAAATGTCCCTGAAAAATTAGAAGgtactcaatgtaatttcccacatagcattcactgagttagtcttgagtctgtccctctgtgttttgttttcacgtgaggaagttgaatacctcatcacagtaagttttccatattttacttatatctcccaataattacatattttatatcattaaaaatggggcgct',\n",
       " '>INSR chr19:7149896-7151209 (reverse complement)': 'aaaattctgccagacttggagaagtggctgagtcagttgtgatgtccacatgtagtcacgtttgacatcccagggccacctcagcaggccgtctctggggagaattttctctgatttcttccccttcccttgctggacccctgcacctgctggggaagatgtagctcactccgtctagcaagtgatgggagcgagtggtccagggtcaaagccagggtgcccttactcggacacatgtggcctccaagtgtcagagcccagtggtctgtctaatgaagttccctctgtcctcaaaggcgttggttttgtttccacagAAAAACCTCTTCAGGCACTGGTGCCGAGGACCCTAGgtatgactcacctgtgcgacccctggtgcctgctccgcgcagggccggcggcgtgccaggcagatgcctcggagaacccaggggtttctgtggctttttgcatgcggcgggcagctgtgctggagagcagatgcttcaccaattcagaaatccaatgccttcactctgaaatgaaatctgggcatgaatgtggggagaaaccttcactaacacactcttgctaaaacatagaatcatgggagtgcttcctgggtaccccctccctgccttctgtttgcagccactgtttgctcactaaacatctctgcacctcccgcgtgcatttgcagaggtgggtgggggtccccggagtctgagctccccgcggctgggtgccccgacccagcagctcctacaccatgaatggaggttgatctggaaacagaatattttcatgaaagggcgacagggtatgaacaaaagaacaccgtgtcgctcactgaattccacggaggagagtcaggga',\n",
       " '>MBNL chr3:152432504-152433226 (reverse complement)': 'taactctttgaggtaagcgccgttttaaagatgaggaaattgaggtacagtgatgtaaccaggcaatgtgactttagcgtccaacctcttatccactattctaaacatggatgttgtagcctttataaacgttacattaatcaaatacagcattatctatactctagtaaaatgttccaaaccctaagccaaaatctgttttaaaatttttacaactttttggccatggaaacacacaaacaaacaaaaaaccacactttgagaattagaatgtagtatataaagacaccaactagtcattcctacCTCAAGTCTGTCTGTTCGCATTAATTTCTGTGCAGCAGCTGCAGCAGCTGCAGGTACAGGGACACCCGGATTCCCTGTAACCAACATTGGTGCAGTCGGCAAGATCTCTGCCGGGACCAGGCTTGGAGAAACAGGTCCCAGATAGGGATTAAAGGCGGCTGCTGATGCATTGGTGGCTAAGCTTGGTGCAACTGAAAACATTGGctgaaaaataaaataaaagcaaaatttaacatgcaggtctcagctcaaagttgatattcttaattatacatttgtcctccatccatctatccattcttccttaggccttccctccttccctttaatcctgtgttcatttactatcatttagggtaaggctgttttattaaataaacattcatcaaatcaatgtttttctaaaatataataagt'}"
      ]
     },
     "execution_count": 97,
     "metadata": {},
     "output_type": "execute_result"
    }
   ],
   "source": [
    "def get_seq_regions(fastafile):\n",
    "    with open(fastafile, 'r') as fh:\n",
    "        exon_dict = {}\n",
    "        for line in fh:\n",
    "            line = line.strip()\n",
    "            if line[0] == '>':\n",
    "                header = line\n",
    "                seq = '' \n",
    "            elif line[0] != '>':  \n",
    "                seq += line\n",
    "                exon_dict[header] = seq"
   ]
  },
  {
   "cell_type": "code",
   "execution_count": 4,
   "metadata": {},
   "outputs": [
    {
     "name": "stdout",
     "output_type": "stream",
     "text": [
      "abrt\n"
     ]
    }
   ],
   "source": [
    "li = ['a','b','r','t']\n",
    "li2 = ''.join(li)\n",
    "print(li2)"
   ]
  },
  {
   "cell_type": "code",
   "execution_count": null,
   "metadata": {
    "collapsed": true
   },
   "outputs": [],
   "source": []
  }
 ],
 "metadata": {
  "kernelspec": {
   "display_name": "Python 3",
   "language": "python",
   "name": "python3"
  },
  "language_info": {
   "codemirror_mode": {
    "name": "ipython",
    "version": 3
   },
   "file_extension": ".py",
   "mimetype": "text/x-python",
   "name": "python",
   "nbconvert_exporter": "python",
   "pygments_lexer": "ipython3",
   "version": "3.6.3"
  }
 },
 "nbformat": 4,
 "nbformat_minor": 2
}
