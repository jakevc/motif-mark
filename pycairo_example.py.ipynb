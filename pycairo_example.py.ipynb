{
 "cells": [
  {
   "cell_type": "code",
   "execution_count": 100,
   "metadata": {},
   "outputs": [],
   "source": [
    "import cairo\n",
    "import numpy as np"
   ]
  },
  {
   "cell_type": "code",
   "execution_count": 178,
   "metadata": {},
   "outputs": [],
   "source": [
    "surface = cairo.SVGSurface(\"example.svg\", 300, 200)\n",
    "context = cairo.Context(surface)\n",
    "context.scale(400, 200)\n",
    "\n",
    "# sequence line across figure\n",
    "x, x2 = 0.1, 0.9\n",
    "y, y2 = 0.5, 0.5\n",
    "context.move_to(x, y)\n",
    "context.set_line_width(0.01)\n",
    "context.line_to(x2, y2)\n",
    "context.stroke()\n",
    "\n",
    "\n",
    "# exons\n",
    "coordinates = '23:38'\n",
    "\n",
    "context.rectangle(23/100,(0.5-0.02),38/100,0.04)\n",
    "context.stroke()\n",
    "\n",
    "\n",
    "surface.finish()\n"
   ]
  },
  {
   "cell_type": "code",
   "execution_count": 179,
   "metadata": {},
   "outputs": [
    {
     "data": {
      "image/svg+xml": [
       "<svg height=\"200pt\" version=\"1.1\" viewBox=\"0 0 300 200\" width=\"300pt\" xmlns=\"http://www.w3.org/2000/svg\" xmlns:xlink=\"http://www.w3.org/1999/xlink\">\n",
       "<g id=\"surface329\">\n",
       "<path d=\"M 0.1 0.5 L 0.9 0.5 \" style=\"fill:none;stroke-width:0.01;stroke-linecap:butt;stroke-linejoin:miter;stroke:rgb(0%,0%,0%);stroke-opacity:1;stroke-miterlimit:10;\" transform=\"matrix(400,0,0,200,0,0)\"/>\n",
       "<path d=\"M 0.23 0.48 L 0.61 0.48 L 0.61 0.52 L 0.23 0.52 Z M 0.23 0.48 \" style=\"fill:none;stroke-width:0.01;stroke-linecap:butt;stroke-linejoin:miter;stroke:rgb(0%,0%,0%);stroke-opacity:1;stroke-miterlimit:10;\" transform=\"matrix(400,0,0,200,0,0)\"/>\n",
       "</g>\n",
       "</svg>"
      ],
      "text/plain": [
       "<IPython.core.display.SVG object>"
      ]
     },
     "execution_count": 179,
     "metadata": {},
     "output_type": "execute_result"
    }
   ],
   "source": [
    "from IPython.display import SVG, display\n",
    "SVG('example.svg')"
   ]
  },
  {
   "cell_type": "code",
   "execution_count": 86,
   "metadata": {},
   "outputs": [
    {
     "name": "stdout",
     "output_type": "stream",
     "text": [
      "['apples', 'cookies', 'milk']\n",
      "['apples', 'cookies', 'milk', 'milk']\n"
     ]
    }
   ],
   "source": [
    "## Object oriented play time, let's implement this for motif_mark\n",
    "\n",
    "class to_do:\n",
    "    '''To do list'''\n",
    "    def __init__(self, store, my_list):\n",
    "        self.store = 'TJS'\n",
    "        self.list = my_list\n",
    "        \n",
    "    def add_item_to_list(self,item):\n",
    "        self.list.append(item)\n",
    "\n",
    "my_list = ['apples', 'cookies', 'milk']\n",
    "\n",
    "td = to_do('TJS', my_list)\n",
    "\n",
    "print(td.list)\n",
    "\n",
    "td.add_item_to_list('milk')\n",
    "\n",
    "print(td.list)\n"
   ]
  },
  {
   "cell_type": "code",
   "execution_count": 75,
   "metadata": {
    "collapsed": true
   },
   "outputs": [],
   "source": [
    "st = \"asdfa;lsdf;lkajs;dlfjkhlkjCGCChsdfoiuwerASygcyDFBBTGCATGCBTugcuTGGTGAGGTTAAAGTGCTGTGCGTasdfhlkwerltgcatgasdflksdf\""
   ]
  },
  {
   "cell_type": "code",
   "execution_count": 242,
   "metadata": {},
   "outputs": [
    {
     "name": "stdout",
     "output_type": "stream",
     "text": [
      "['26:30', '59:63', '77:81']\n"
     ]
    }
   ],
   "source": [
    "# def find_exon(string):\n",
    "#     coordinates = []\n",
    "#     for i, char in enumerate(st):\n",
    "#         if char.isupper():\n",
    "#             coordinates.append(i)\n",
    "#     return (min(coordinates),max(coordinates))\n",
    "\n",
    "# find_exon(st)\n",
    "\n",
    "# motif list\n",
    "motif_list\n",
    "def motif_patterns(motif_list):\n",
    "    'returns list of regex searchs for any motif of IUPAC nucleotide codes'\n",
    "    motif_match_list = []\n",
    "    \n",
    "    IUPAC_dict = {'y':'(C|T|U)',\n",
    "                  'r':'(A|G)',\n",
    "                  's':'(C|G)',\n",
    "                  'w':'(A|T|U)',\n",
    "                  'k':'(G|T|U)',\n",
    "                  'm':'(C|A)',\n",
    "                  'b':'(C|G|T|U)',\n",
    "                  'd':'(A|G|T|U)',\n",
    "                  'v':'(A|C|G)',\n",
    "                  'h':'(A|C|T|U)'\n",
    "                 }\n",
    "    \n",
    "    for tif in motif_list:\n",
    "        for key in IUPAC_dict:\n",
    "            m = re.finditer(r'(?i)'+key, tif)\n",
    "            for i in m:\n",
    "                tif = tif.replace(i.group(), IUPAC_dict[key])\n",
    "    \n",
    "        motif_match_list.append(tif)\n",
    "        \n",
    "    return motif_match_list\n",
    "        \n",
    "\n",
    "motif_patterns(motif_list)\n",
    "\n",
    "           \n",
    "\n",
    "import re\n",
    "\n",
    "def motif_coords(motif):\n",
    "    'returns string coordinates of motif match (case insensitive)'\n",
    "    motif_coords_list = []\n",
    "    m = re.finditer(r'(?i)'+motif, st)\n",
    "    for i in m:\n",
    "        motif_coords_list.append(str(i.start())+':'+str(i.end()))\n",
    "        \n",
    "    return motif_coords_list\n",
    "\n",
    "motif_coords('(C|T|U)gc(C|T|U)')"
   ]
  },
  {
   "cell_type": "code",
   "execution_count": 155,
   "metadata": {
    "collapsed": true
   },
   "outputs": [],
   "source": [
    "def get_motif_list(motifile):\n",
    "    '''return list of motifs from motif file'''\n",
    "    with open(motifile, 'r') as mh:\n",
    "\n",
    "        # list to hold motifs of interest\n",
    "        motifs = []\n",
    "\n",
    "        # loop over each line storing each motif in list\n",
    "        for line in mh: \n",
    "            motifs.append(line.strip())\n",
    "\n",
    "        return motifs\n",
    "    \n",
    "motif_list = get_motif_list('motifs.txt')"
   ]
  },
  {
   "cell_type": "code",
   "execution_count": 97,
   "metadata": {},
   "outputs": [
    {
     "data": {
      "text/plain": [
       "{'>ADD3 chr10:111891895-111892326': 'aatgtataattatggatatatgggataactgttagcatgctcagctcactgctgaagaatttatcatctctttgtatacaggcatttgatgtatgcactaacctccctaaaatcatatgctgctttgttttgttttgcatggcttttaactaaactcttatccaacagATGCTGAGCAGGAATTACTCTCAGATGACGCTTCATCTGTTTCACAAATTCAGTCTCAAACTCAGTCACCGCAAAATGTCCCTGAAAAATTAGAAGgtactcaatgtaatttcccacatagcattcactgagttagtcttgagtctgtccctctgtgttttgttttcacgtgaggaagttgaatacctcatcacagtaagttttccatattttacttatatctcccaataattacatattttatatcattaaaaatggggcgct',\n",
       " '>INSR chr19:7149896-7151209 (reverse complement)': 'aaaattctgccagacttggagaagtggctgagtcagttgtgatgtccacatgtagtcacgtttgacatcccagggccacctcagcaggccgtctctggggagaattttctctgatttcttccccttcccttgctggacccctgcacctgctggggaagatgtagctcactccgtctagcaagtgatgggagcgagtggtccagggtcaaagccagggtgcccttactcggacacatgtggcctccaagtgtcagagcccagtggtctgtctaatgaagttccctctgtcctcaaaggcgttggttttgtttccacagAAAAACCTCTTCAGGCACTGGTGCCGAGGACCCTAGgtatgactcacctgtgcgacccctggtgcctgctccgcgcagggccggcggcgtgccaggcagatgcctcggagaacccaggggtttctgtggctttttgcatgcggcgggcagctgtgctggagagcagatgcttcaccaattcagaaatccaatgccttcactctgaaatgaaatctgggcatgaatgtggggagaaaccttcactaacacactcttgctaaaacatagaatcatgggagtgcttcctgggtaccccctccctgccttctgtttgcagccactgtttgctcactaaacatctctgcacctcccgcgtgcatttgcagaggtgggtgggggtccccggagtctgagctccccgcggctgggtgccccgacccagcagctcctacaccatgaatggaggttgatctggaaacagaatattttcatgaaagggcgacagggtatgaacaaaagaacaccgtgtcgctcactgaattccacggaggagagtcaggga',\n",
       " '>MBNL chr3:152432504-152433226 (reverse complement)': 'taactctttgaggtaagcgccgttttaaagatgaggaaattgaggtacagtgatgtaaccaggcaatgtgactttagcgtccaacctcttatccactattctaaacatggatgttgtagcctttataaacgttacattaatcaaatacagcattatctatactctagtaaaatgttccaaaccctaagccaaaatctgttttaaaatttttacaactttttggccatggaaacacacaaacaaacaaaaaaccacactttgagaattagaatgtagtatataaagacaccaactagtcattcctacCTCAAGTCTGTCTGTTCGCATTAATTTCTGTGCAGCAGCTGCAGCAGCTGCAGGTACAGGGACACCCGGATTCCCTGTAACCAACATTGGTGCAGTCGGCAAGATCTCTGCCGGGACCAGGCTTGGAGAAACAGGTCCCAGATAGGGATTAAAGGCGGCTGCTGATGCATTGGTGGCTAAGCTTGGTGCAACTGAAAACATTGGctgaaaaataaaataaaagcaaaatttaacatgcaggtctcagctcaaagttgatattcttaattatacatttgtcctccatccatctatccattcttccttaggccttccctccttccctttaatcctgtgttcatttactatcatttagggtaaggctgttttattaaataaacattcatcaaatcaatgtttttctaaaatataataagt'}"
      ]
     },
     "execution_count": 97,
     "metadata": {},
     "output_type": "execute_result"
    }
   ],
   "source": [
    "def get_seq_regions(fastafile):\n",
    "    with open(fastafile, 'r') as fh:\n",
    "        exon_dict = {}\n",
    "        for line in fh:\n",
    "            line = line.strip()\n",
    "            if line[0] == '>':\n",
    "                header = line\n",
    "                seq = '' \n",
    "            elif line[0] != '>':  \n",
    "                seq += line\n",
    "                exon_dict[header] = seq"
   ]
  },
  {
   "cell_type": "code",
   "execution_count": 4,
   "metadata": {},
   "outputs": [
    {
     "name": "stdout",
     "output_type": "stream",
     "text": [
      "abrt\n"
     ]
    }
   ],
   "source": [
    "li = ['a','b','r','t']\n",
    "li2 = ''.join(li)\n",
    "print(li2)"
   ]
  },
  {
   "cell_type": "code",
   "execution_count": null,
   "metadata": {
    "collapsed": true
   },
   "outputs": [],
   "source": []
  }
 ],
 "metadata": {
  "kernelspec": {
   "display_name": "Python 3",
   "language": "python",
   "name": "python3"
  },
  "language_info": {
   "codemirror_mode": {
    "name": "ipython",
    "version": 3
   },
   "file_extension": ".py",
   "mimetype": "text/x-python",
   "name": "python",
   "nbconvert_exporter": "python",
   "pygments_lexer": "ipython3",
   "version": "3.6.3"
  }
 },
 "nbformat": 4,
 "nbformat_minor": 2
}
